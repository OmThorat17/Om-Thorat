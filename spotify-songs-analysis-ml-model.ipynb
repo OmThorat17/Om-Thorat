{
 "cells": [
  {
   "cell_type": "markdown",
   "id": "f5b674a8",
   "metadata": {
    "papermill": {
     "duration": 0.008676,
     "end_time": "2025-08-24T18:39:18.232321",
     "exception": false,
     "start_time": "2025-08-24T18:39:18.223645",
     "status": "completed"
    },
    "tags": []
   },
   "source": []
  },
  {
   "cell_type": "code",
   "execution_count": 1,
   "id": "3ecd0bcb",
   "metadata": {
    "_cell_guid": "b1076dfc-b9ad-4769-8c92-a6c4dae69d19",
    "_uuid": "8f2839f25d086af736a60e9eeb907d3b93b6e0e5",
    "execution": {
     "iopub.execute_input": "2025-08-24T18:39:18.248552Z",
     "iopub.status.busy": "2025-08-24T18:39:18.248190Z",
     "iopub.status.idle": "2025-08-24T18:39:20.575812Z",
     "shell.execute_reply": "2025-08-24T18:39:20.574514Z"
    },
    "jupyter": {
     "source_hidden": true
    },
    "papermill": {
     "duration": 2.337878,
     "end_time": "2025-08-24T18:39:20.577659",
     "exception": false,
     "start_time": "2025-08-24T18:39:18.239781",
     "status": "completed"
    },
    "tags": []
   },
   "outputs": [
    {
     "name": "stdout",
     "output_type": "stream",
     "text": [
      "/kaggle/input/spotify-songs-analysis/top-spotify-songs-in-countries\n",
      "/kaggle/input/top-spotify-songs-in-countries/spotify_history.csv\n",
      "/kaggle/input/top-spotify-songs-in-countries/spotify_data_dictionary Description.csv\n"
     ]
    }
   ],
   "source": [
    "# This Python 3 environment comes with many helpful analytics libraries installed\n",
    "# It is defined by the kaggle/python Docker image: https://github.com/kaggle/docker-python\n",
    "# For example, here's several helpful packages to load\n",
    "\n",
    "import numpy as np # linear algebra\n",
    "import pandas as pd # data processing, CSV file I/O (e.g. pd.read_csv)\n",
    "\n",
    "# Input data files are available in the read-only \"../input/\" directory\n",
    "# For example, running this (by clicking run or pressing Shift+Enter) will list all files under the input directory\n",
    "\n",
    "import os\n",
    "for dirname, _, filenames in os.walk('/kaggle/input'):\n",
    "    for filename in filenames:\n",
    "        print(os.path.join(dirname, filename))\n",
    "\n",
    "# You can write up to 20GB to the current directory (/kaggle/working/) that gets preserved as output when you create a version using \"Save & Run All\" \n",
    "# You can also write temporary files to /kaggle/temp/, but they won't be saved outside of the current session"
   ]
  },
  {
   "cell_type": "code",
   "execution_count": 2,
   "id": "d1acc5d8",
   "metadata": {
    "execution": {
     "iopub.execute_input": "2025-08-24T18:39:20.594280Z",
     "iopub.status.busy": "2025-08-24T18:39:20.593864Z",
     "iopub.status.idle": "2025-08-24T18:39:20.599390Z",
     "shell.execute_reply": "2025-08-24T18:39:20.598182Z"
    },
    "papermill": {
     "duration": 0.015681,
     "end_time": "2025-08-24T18:39:20.601113",
     "exception": false,
     "start_time": "2025-08-24T18:39:20.585432",
     "status": "completed"
    },
    "tags": []
   },
   "outputs": [],
   "source": [
    "import numpy as np\n",
    "import pandas as pd\n",
    "import matplotlib.pyplot as plt"
   ]
  },
  {
   "cell_type": "code",
   "execution_count": 3,
   "id": "227bdf82",
   "metadata": {
    "execution": {
     "iopub.execute_input": "2025-08-24T18:39:20.618580Z",
     "iopub.status.busy": "2025-08-24T18:39:20.618142Z",
     "iopub.status.idle": "2025-08-24T18:39:21.659472Z",
     "shell.execute_reply": "2025-08-24T18:39:21.658118Z"
    },
    "papermill": {
     "duration": 1.052246,
     "end_time": "2025-08-24T18:39:21.661481",
     "exception": false,
     "start_time": "2025-08-24T18:39:20.609235",
     "status": "completed"
    },
    "tags": []
   },
   "outputs": [],
   "source": [
    "df=pd.read_csv('/kaggle/input/top-spotify-songs-in-countries/spotify_history.csv')"
   ]
  },
  {
   "cell_type": "code",
   "execution_count": 4,
   "id": "fedf42ce",
   "metadata": {
    "execution": {
     "iopub.execute_input": "2025-08-24T18:39:21.679027Z",
     "iopub.status.busy": "2025-08-24T18:39:21.678658Z",
     "iopub.status.idle": "2025-08-24T18:39:21.712398Z",
     "shell.execute_reply": "2025-08-24T18:39:21.711330Z"
    },
    "papermill": {
     "duration": 0.044438,
     "end_time": "2025-08-24T18:39:21.714254",
     "exception": false,
     "start_time": "2025-08-24T18:39:21.669816",
     "status": "completed"
    },
    "tags": []
   },
   "outputs": [
    {
     "data": {
      "text/html": [
       "<div>\n",
       "<style scoped>\n",
       "    .dataframe tbody tr th:only-of-type {\n",
       "        vertical-align: middle;\n",
       "    }\n",
       "\n",
       "    .dataframe tbody tr th {\n",
       "        vertical-align: top;\n",
       "    }\n",
       "\n",
       "    .dataframe thead th {\n",
       "        text-align: right;\n",
       "    }\n",
       "</style>\n",
       "<table border=\"1\" class=\"dataframe\">\n",
       "  <thead>\n",
       "    <tr style=\"text-align: right;\">\n",
       "      <th></th>\n",
       "      <th>spotify_track_uri</th>\n",
       "      <th>ts</th>\n",
       "      <th>platform</th>\n",
       "      <th>ms_played</th>\n",
       "      <th>track_name</th>\n",
       "      <th>artist_name</th>\n",
       "      <th>album_name</th>\n",
       "      <th>reason_start</th>\n",
       "      <th>reason_end</th>\n",
       "      <th>shuffle</th>\n",
       "      <th>skipped</th>\n",
       "    </tr>\n",
       "  </thead>\n",
       "  <tbody>\n",
       "    <tr>\n",
       "      <th>0</th>\n",
       "      <td>2J3n32GeLmMjwuAzyhcSNe</td>\n",
       "      <td>2013-07-08 02:44:34</td>\n",
       "      <td>web player</td>\n",
       "      <td>3185</td>\n",
       "      <td>Say It, Just Say It</td>\n",
       "      <td>The Mowgli's</td>\n",
       "      <td>Waiting For The Dawn</td>\n",
       "      <td>autoplay</td>\n",
       "      <td>clickrow</td>\n",
       "      <td>False</td>\n",
       "      <td>False</td>\n",
       "    </tr>\n",
       "    <tr>\n",
       "      <th>1</th>\n",
       "      <td>1oHxIPqJyvAYHy0PVrDU98</td>\n",
       "      <td>2013-07-08 02:45:37</td>\n",
       "      <td>web player</td>\n",
       "      <td>61865</td>\n",
       "      <td>Drinking from the Bottle (feat. Tinie Tempah)</td>\n",
       "      <td>Calvin Harris</td>\n",
       "      <td>18 Months</td>\n",
       "      <td>clickrow</td>\n",
       "      <td>clickrow</td>\n",
       "      <td>False</td>\n",
       "      <td>False</td>\n",
       "    </tr>\n",
       "    <tr>\n",
       "      <th>2</th>\n",
       "      <td>487OPlneJNni3NWC8SYqhW</td>\n",
       "      <td>2013-07-08 02:50:24</td>\n",
       "      <td>web player</td>\n",
       "      <td>285386</td>\n",
       "      <td>Born To Die</td>\n",
       "      <td>Lana Del Rey</td>\n",
       "      <td>Born To Die - The Paradise Edition</td>\n",
       "      <td>clickrow</td>\n",
       "      <td>unknown</td>\n",
       "      <td>False</td>\n",
       "      <td>False</td>\n",
       "    </tr>\n",
       "    <tr>\n",
       "      <th>3</th>\n",
       "      <td>5IyblF777jLZj1vGHG2UD3</td>\n",
       "      <td>2013-07-08 02:52:40</td>\n",
       "      <td>web player</td>\n",
       "      <td>134022</td>\n",
       "      <td>Off To The Races</td>\n",
       "      <td>Lana Del Rey</td>\n",
       "      <td>Born To Die - The Paradise Edition</td>\n",
       "      <td>trackdone</td>\n",
       "      <td>clickrow</td>\n",
       "      <td>False</td>\n",
       "      <td>False</td>\n",
       "    </tr>\n",
       "    <tr>\n",
       "      <th>4</th>\n",
       "      <td>0GgAAB0ZMllFhbNc3mAodO</td>\n",
       "      <td>2013-07-08 03:17:52</td>\n",
       "      <td>web player</td>\n",
       "      <td>0</td>\n",
       "      <td>Half Mast</td>\n",
       "      <td>Empire Of The Sun</td>\n",
       "      <td>Walking On A Dream</td>\n",
       "      <td>clickrow</td>\n",
       "      <td>nextbtn</td>\n",
       "      <td>False</td>\n",
       "      <td>False</td>\n",
       "    </tr>\n",
       "  </tbody>\n",
       "</table>\n",
       "</div>"
      ],
      "text/plain": [
       "        spotify_track_uri                   ts    platform  ms_played  \\\n",
       "0  2J3n32GeLmMjwuAzyhcSNe  2013-07-08 02:44:34  web player       3185   \n",
       "1  1oHxIPqJyvAYHy0PVrDU98  2013-07-08 02:45:37  web player      61865   \n",
       "2  487OPlneJNni3NWC8SYqhW  2013-07-08 02:50:24  web player     285386   \n",
       "3  5IyblF777jLZj1vGHG2UD3  2013-07-08 02:52:40  web player     134022   \n",
       "4  0GgAAB0ZMllFhbNc3mAodO  2013-07-08 03:17:52  web player          0   \n",
       "\n",
       "                                      track_name        artist_name  \\\n",
       "0                            Say It, Just Say It       The Mowgli's   \n",
       "1  Drinking from the Bottle (feat. Tinie Tempah)      Calvin Harris   \n",
       "2                                    Born To Die       Lana Del Rey   \n",
       "3                               Off To The Races       Lana Del Rey   \n",
       "4                                      Half Mast  Empire Of The Sun   \n",
       "\n",
       "                           album_name reason_start reason_end  shuffle  \\\n",
       "0                Waiting For The Dawn     autoplay   clickrow    False   \n",
       "1                           18 Months     clickrow   clickrow    False   \n",
       "2  Born To Die - The Paradise Edition     clickrow    unknown    False   \n",
       "3  Born To Die - The Paradise Edition    trackdone   clickrow    False   \n",
       "4                  Walking On A Dream     clickrow    nextbtn    False   \n",
       "\n",
       "   skipped  \n",
       "0    False  \n",
       "1    False  \n",
       "2    False  \n",
       "3    False  \n",
       "4    False  "
      ]
     },
     "execution_count": 4,
     "metadata": {},
     "output_type": "execute_result"
    }
   ],
   "source": [
    "df.head()"
   ]
  },
  {
   "cell_type": "code",
   "execution_count": 5,
   "id": "c8f60099",
   "metadata": {
    "execution": {
     "iopub.execute_input": "2025-08-24T18:39:21.730369Z",
     "iopub.status.busy": "2025-08-24T18:39:21.729935Z",
     "iopub.status.idle": "2025-08-24T18:39:21.744982Z",
     "shell.execute_reply": "2025-08-24T18:39:21.744026Z"
    },
    "papermill": {
     "duration": 0.024892,
     "end_time": "2025-08-24T18:39:21.746730",
     "exception": false,
     "start_time": "2025-08-24T18:39:21.721838",
     "status": "completed"
    },
    "tags": []
   },
   "outputs": [
    {
     "data": {
      "text/html": [
       "<div>\n",
       "<style scoped>\n",
       "    .dataframe tbody tr th:only-of-type {\n",
       "        vertical-align: middle;\n",
       "    }\n",
       "\n",
       "    .dataframe tbody tr th {\n",
       "        vertical-align: top;\n",
       "    }\n",
       "\n",
       "    .dataframe thead th {\n",
       "        text-align: right;\n",
       "    }\n",
       "</style>\n",
       "<table border=\"1\" class=\"dataframe\">\n",
       "  <thead>\n",
       "    <tr style=\"text-align: right;\">\n",
       "      <th></th>\n",
       "      <th>spotify_track_uri</th>\n",
       "      <th>ts</th>\n",
       "      <th>platform</th>\n",
       "      <th>ms_played</th>\n",
       "      <th>track_name</th>\n",
       "      <th>artist_name</th>\n",
       "      <th>album_name</th>\n",
       "      <th>reason_start</th>\n",
       "      <th>reason_end</th>\n",
       "      <th>shuffle</th>\n",
       "      <th>skipped</th>\n",
       "    </tr>\n",
       "  </thead>\n",
       "  <tbody>\n",
       "    <tr>\n",
       "      <th>149855</th>\n",
       "      <td>4Fz1WWr5o0OrlIcZxcyZtK</td>\n",
       "      <td>2024-12-15 23:06:19</td>\n",
       "      <td>android</td>\n",
       "      <td>1247</td>\n",
       "      <td>On The Way Home</td>\n",
       "      <td>John Mayer</td>\n",
       "      <td>Paradise Valley</td>\n",
       "      <td>fwdbtn</td>\n",
       "      <td>fwdbtn</td>\n",
       "      <td>True</td>\n",
       "      <td>True</td>\n",
       "    </tr>\n",
       "    <tr>\n",
       "      <th>149856</th>\n",
       "      <td>0qHMhBZqYb99yhX9BHcIkV</td>\n",
       "      <td>2024-12-15 23:06:21</td>\n",
       "      <td>android</td>\n",
       "      <td>1515</td>\n",
       "      <td>Magical Mystery Tour - Remastered 2009</td>\n",
       "      <td>The Beatles</td>\n",
       "      <td>Magical Mystery Tour</td>\n",
       "      <td>fwdbtn</td>\n",
       "      <td>fwdbtn</td>\n",
       "      <td>True</td>\n",
       "      <td>True</td>\n",
       "    </tr>\n",
       "    <tr>\n",
       "      <th>149857</th>\n",
       "      <td>0HHdujGjOZChTrl8lJWEIq</td>\n",
       "      <td>2024-12-15 23:06:22</td>\n",
       "      <td>android</td>\n",
       "      <td>1283</td>\n",
       "      <td>Stop This Train - Live at the Nokia Theatre, L...</td>\n",
       "      <td>John Mayer</td>\n",
       "      <td>Where the Light Is: John Mayer Live In Los Ang...</td>\n",
       "      <td>fwdbtn</td>\n",
       "      <td>fwdbtn</td>\n",
       "      <td>True</td>\n",
       "      <td>True</td>\n",
       "    </tr>\n",
       "    <tr>\n",
       "      <th>149858</th>\n",
       "      <td>7peh6LUcdNPcMdrSH4JPsM</td>\n",
       "      <td>2024-12-15 23:06:23</td>\n",
       "      <td>android</td>\n",
       "      <td>1306</td>\n",
       "      <td>I Don't Trust Myself (With Loving You)</td>\n",
       "      <td>John Mayer</td>\n",
       "      <td>Continuum</td>\n",
       "      <td>fwdbtn</td>\n",
       "      <td>fwdbtn</td>\n",
       "      <td>True</td>\n",
       "      <td>True</td>\n",
       "    </tr>\n",
       "    <tr>\n",
       "      <th>149859</th>\n",
       "      <td>6iGU74CwXuT4XVepjc9Emf</td>\n",
       "      <td>2024-12-15 23:06:25</td>\n",
       "      <td>android</td>\n",
       "      <td>1893</td>\n",
       "      <td>God Only Knows - Mono</td>\n",
       "      <td>The Beach Boys</td>\n",
       "      <td>Pet Sounds</td>\n",
       "      <td>fwdbtn</td>\n",
       "      <td>fwdbtn</td>\n",
       "      <td>True</td>\n",
       "      <td>True</td>\n",
       "    </tr>\n",
       "  </tbody>\n",
       "</table>\n",
       "</div>"
      ],
      "text/plain": [
       "             spotify_track_uri                   ts platform  ms_played  \\\n",
       "149855  4Fz1WWr5o0OrlIcZxcyZtK  2024-12-15 23:06:19  android       1247   \n",
       "149856  0qHMhBZqYb99yhX9BHcIkV  2024-12-15 23:06:21  android       1515   \n",
       "149857  0HHdujGjOZChTrl8lJWEIq  2024-12-15 23:06:22  android       1283   \n",
       "149858  7peh6LUcdNPcMdrSH4JPsM  2024-12-15 23:06:23  android       1306   \n",
       "149859  6iGU74CwXuT4XVepjc9Emf  2024-12-15 23:06:25  android       1893   \n",
       "\n",
       "                                               track_name     artist_name  \\\n",
       "149855                                    On The Way Home      John Mayer   \n",
       "149856             Magical Mystery Tour - Remastered 2009     The Beatles   \n",
       "149857  Stop This Train - Live at the Nokia Theatre, L...      John Mayer   \n",
       "149858             I Don't Trust Myself (With Loving You)      John Mayer   \n",
       "149859                              God Only Knows - Mono  The Beach Boys   \n",
       "\n",
       "                                               album_name reason_start  \\\n",
       "149855                                    Paradise Valley       fwdbtn   \n",
       "149856                               Magical Mystery Tour       fwdbtn   \n",
       "149857  Where the Light Is: John Mayer Live In Los Ang...       fwdbtn   \n",
       "149858                                          Continuum       fwdbtn   \n",
       "149859                                         Pet Sounds       fwdbtn   \n",
       "\n",
       "       reason_end  shuffle  skipped  \n",
       "149855     fwdbtn     True     True  \n",
       "149856     fwdbtn     True     True  \n",
       "149857     fwdbtn     True     True  \n",
       "149858     fwdbtn     True     True  \n",
       "149859     fwdbtn     True     True  "
      ]
     },
     "execution_count": 5,
     "metadata": {},
     "output_type": "execute_result"
    }
   ],
   "source": [
    "df.tail()"
   ]
  },
  {
   "cell_type": "code",
   "execution_count": 6,
   "id": "8dbf676b",
   "metadata": {
    "execution": {
     "iopub.execute_input": "2025-08-24T18:39:21.763049Z",
     "iopub.status.busy": "2025-08-24T18:39:21.762719Z",
     "iopub.status.idle": "2025-08-24T18:39:21.861078Z",
     "shell.execute_reply": "2025-08-24T18:39:21.859810Z"
    },
    "papermill": {
     "duration": 0.108653,
     "end_time": "2025-08-24T18:39:21.862985",
     "exception": false,
     "start_time": "2025-08-24T18:39:21.754332",
     "status": "completed"
    },
    "tags": []
   },
   "outputs": [
    {
     "name": "stdout",
     "output_type": "stream",
     "text": [
      "<class 'pandas.core.frame.DataFrame'>\n",
      "RangeIndex: 149860 entries, 0 to 149859\n",
      "Data columns (total 11 columns):\n",
      " #   Column             Non-Null Count   Dtype \n",
      "---  ------             --------------   ----- \n",
      " 0   spotify_track_uri  149860 non-null  object\n",
      " 1   ts                 149860 non-null  object\n",
      " 2   platform           149860 non-null  object\n",
      " 3   ms_played          149860 non-null  int64 \n",
      " 4   track_name         149860 non-null  object\n",
      " 5   artist_name        149860 non-null  object\n",
      " 6   album_name         149860 non-null  object\n",
      " 7   reason_start       149717 non-null  object\n",
      " 8   reason_end         149743 non-null  object\n",
      " 9   shuffle            149860 non-null  bool  \n",
      " 10  skipped            149860 non-null  bool  \n",
      "dtypes: bool(2), int64(1), object(8)\n",
      "memory usage: 10.6+ MB\n"
     ]
    }
   ],
   "source": [
    "df.info()"
   ]
  },
  {
   "cell_type": "code",
   "execution_count": 7,
   "id": "a5794a7c",
   "metadata": {
    "execution": {
     "iopub.execute_input": "2025-08-24T18:39:21.879650Z",
     "iopub.status.busy": "2025-08-24T18:39:21.879281Z",
     "iopub.status.idle": "2025-08-24T18:39:21.887621Z",
     "shell.execute_reply": "2025-08-24T18:39:21.886593Z"
    },
    "papermill": {
     "duration": 0.018239,
     "end_time": "2025-08-24T18:39:21.889074",
     "exception": false,
     "start_time": "2025-08-24T18:39:21.870835",
     "status": "completed"
    },
    "tags": []
   },
   "outputs": [
    {
     "data": {
      "text/plain": [
       "spotify_track_uri    object\n",
       "ts                   object\n",
       "platform             object\n",
       "ms_played             int64\n",
       "track_name           object\n",
       "artist_name          object\n",
       "album_name           object\n",
       "reason_start         object\n",
       "reason_end           object\n",
       "shuffle                bool\n",
       "skipped                bool\n",
       "dtype: object"
      ]
     },
     "execution_count": 7,
     "metadata": {},
     "output_type": "execute_result"
    }
   ],
   "source": [
    "df.dtypes"
   ]
  },
  {
   "cell_type": "markdown",
   "id": "503c8755",
   "metadata": {
    "papermill": {
     "duration": 0.007249,
     "end_time": "2025-08-24T18:39:21.904134",
     "exception": false,
     "start_time": "2025-08-24T18:39:21.896885",
     "status": "completed"
    },
    "tags": []
   },
   "source": [
    "**SIZE OF FILE(ROWS,COLUMNS)**"
   ]
  },
  {
   "cell_type": "code",
   "execution_count": 8,
   "id": "2ebb26a3",
   "metadata": {
    "execution": {
     "iopub.execute_input": "2025-08-24T18:39:21.920940Z",
     "iopub.status.busy": "2025-08-24T18:39:21.920595Z",
     "iopub.status.idle": "2025-08-24T18:39:21.926950Z",
     "shell.execute_reply": "2025-08-24T18:39:21.925803Z"
    },
    "papermill": {
     "duration": 0.016852,
     "end_time": "2025-08-24T18:39:21.928666",
     "exception": false,
     "start_time": "2025-08-24T18:39:21.911814",
     "status": "completed"
    },
    "tags": []
   },
   "outputs": [
    {
     "data": {
      "text/plain": [
       "(149860, 11)"
      ]
     },
     "execution_count": 8,
     "metadata": {},
     "output_type": "execute_result"
    }
   ],
   "source": [
    "df.shape"
   ]
  },
  {
   "cell_type": "markdown",
   "id": "108dc5cc",
   "metadata": {
    "papermill": {
     "duration": 0.007341,
     "end_time": "2025-08-24T18:39:21.943968",
     "exception": false,
     "start_time": "2025-08-24T18:39:21.936627",
     "status": "completed"
    },
    "tags": []
   },
   "source": [
    "**COUNTING NULL VALUES**"
   ]
  },
  {
   "cell_type": "code",
   "execution_count": 9,
   "id": "cc7985e8",
   "metadata": {
    "execution": {
     "iopub.execute_input": "2025-08-24T18:39:21.961272Z",
     "iopub.status.busy": "2025-08-24T18:39:21.960950Z",
     "iopub.status.idle": "2025-08-24T18:39:22.034487Z",
     "shell.execute_reply": "2025-08-24T18:39:22.033416Z"
    },
    "papermill": {
     "duration": 0.08456,
     "end_time": "2025-08-24T18:39:22.036117",
     "exception": false,
     "start_time": "2025-08-24T18:39:21.951557",
     "status": "completed"
    },
    "tags": []
   },
   "outputs": [
    {
     "data": {
      "text/plain": [
       "spotify_track_uri      0\n",
       "ts                     0\n",
       "platform               0\n",
       "ms_played              0\n",
       "track_name             0\n",
       "artist_name            0\n",
       "album_name             0\n",
       "reason_start         143\n",
       "reason_end           117\n",
       "shuffle                0\n",
       "skipped                0\n",
       "dtype: int64"
      ]
     },
     "execution_count": 9,
     "metadata": {},
     "output_type": "execute_result"
    }
   ],
   "source": [
    "df.isnull().sum()"
   ]
  },
  {
   "cell_type": "markdown",
   "id": "9174ac07",
   "metadata": {
    "papermill": {
     "duration": 0.007578,
     "end_time": "2025-08-24T18:39:22.053050",
     "exception": false,
     "start_time": "2025-08-24T18:39:22.045472",
     "status": "completed"
    },
    "tags": []
   },
   "source": [
    "INSIGHTS:\n",
    "  1]reason_start and reason_end  have null values"
   ]
  },
  {
   "cell_type": "markdown",
   "id": "3ad2f29d",
   "metadata": {
    "papermill": {
     "duration": 0.007706,
     "end_time": "2025-08-24T18:39:22.068597",
     "exception": false,
     "start_time": "2025-08-24T18:39:22.060891",
     "status": "completed"
    },
    "tags": []
   },
   "source": [
    "DEALING WITH NULL VALUES:\n",
    "\n",
    " 1]reason_start and reason_end have categorical values so we cant calculate mean and      store it into the null space.\n",
    " \n",
    " 2]we can store data  into null space using Fill with mode(Most occured data)/unknown     or if missing values are more at that time using others columns we have to predict     it.\n",
    " \n",
    " 3]Their is another safe option :create new category \"Unknown\" for missing values.\n",
    " \n",
    " 4]Before starting filling values into Null Space ,Firstly we have to calculate the       percentage of missing value,according to that percentage we have to take actions.\n",
    " \n",
    " 5]\n",
    "  (i)If missing values are less than 5% → just fill them with the most common value        (mode) or \"Unknown\". No need to predict.\n",
    "\n",
    "  (ii)If missing values are between 5% and 30% → you can predict them if the column is       important and other features can help. Otherwise, simple filling is okay.\n",
    "\n",
    "  (iii)If missing values are between 30% and 50% → it’s better to try predicting them,        but only if there are strong related features to base the prediction on.\n",
    "\n",
    "  (iv)If missing values are more than 50% → predicting is usually unreliable. Either         drop the column or fill with \"Unknown\"."
   ]
  },
  {
   "cell_type": "markdown",
   "id": "11f0ac91",
   "metadata": {
    "papermill": {
     "duration": 0.00763,
     "end_time": "2025-08-24T18:39:22.084883",
     "exception": false,
     "start_time": "2025-08-24T18:39:22.077253",
     "status": "completed"
    },
    "tags": []
   },
   "source": [
    "**CALCULATING PERCENTAGE OF MISSING DATA**"
   ]
  },
  {
   "cell_type": "code",
   "execution_count": 10,
   "id": "98dd4995",
   "metadata": {
    "execution": {
     "iopub.execute_input": "2025-08-24T18:39:22.172494Z",
     "iopub.status.busy": "2025-08-24T18:39:22.172132Z",
     "iopub.status.idle": "2025-08-24T18:39:22.243434Z",
     "shell.execute_reply": "2025-08-24T18:39:22.242032Z"
    },
    "papermill": {
     "duration": 0.152861,
     "end_time": "2025-08-24T18:39:22.245582",
     "exception": false,
     "start_time": "2025-08-24T18:39:22.092721",
     "status": "completed"
    },
    "tags": []
   },
   "outputs": [
    {
     "name": "stdout",
     "output_type": "stream",
     "text": [
      "spotify_track_uri    0.000000\n",
      "ts                   0.000000\n",
      "platform             0.000000\n",
      "ms_played            0.000000\n",
      "track_name           0.000000\n",
      "artist_name          0.000000\n",
      "album_name           0.000000\n",
      "reason_start         0.095422\n",
      "reason_end           0.078073\n",
      "shuffle              0.000000\n",
      "skipped              0.000000\n",
      "dtype: float64\n"
     ]
    }
   ],
   "source": [
    "miss_count=df.isnull().sum()\n",
    "total=df.shape[0] #Total Number of rows\n",
    "percent=(miss_count/total)*100\n",
    "print(percent)"
   ]
  },
  {
   "cell_type": "markdown",
   "id": "cd69f1f1",
   "metadata": {
    "papermill": {
     "duration": 0.007876,
     "end_time": "2025-08-24T18:39:22.262406",
     "exception": false,
     "start_time": "2025-08-24T18:39:22.254530",
     "status": "completed"
    },
    "tags": []
   },
   "source": [
    "**Missing values of all columns are less than 5%  so we can fill them with the most common value (mode) or \"Unknown** \n",
    "\n",
    "Best Option:fill them with the most common value (mode)"
   ]
  },
  {
   "cell_type": "code",
   "execution_count": 11,
   "id": "9a7365fc",
   "metadata": {
    "execution": {
     "iopub.execute_input": "2025-08-24T18:39:22.279818Z",
     "iopub.status.busy": "2025-08-24T18:39:22.279337Z",
     "iopub.status.idle": "2025-08-24T18:39:22.328435Z",
     "shell.execute_reply": "2025-08-24T18:39:22.327534Z"
    },
    "papermill": {
     "duration": 0.060046,
     "end_time": "2025-08-24T18:39:22.330334",
     "exception": false,
     "start_time": "2025-08-24T18:39:22.270288",
     "status": "completed"
    },
    "tags": []
   },
   "outputs": [],
   "source": [
    "df['reason_start']=df['reason_start'].fillna(df['reason_start'].mode()[0])\n",
    "df['reason_end']=df['reason_end'].fillna(df['reason_end'].mode()[0])"
   ]
  },
  {
   "cell_type": "code",
   "execution_count": 12,
   "id": "5b5f926e",
   "metadata": {
    "execution": {
     "iopub.execute_input": "2025-08-24T18:39:22.347843Z",
     "iopub.status.busy": "2025-08-24T18:39:22.347550Z",
     "iopub.status.idle": "2025-08-24T18:39:22.420668Z",
     "shell.execute_reply": "2025-08-24T18:39:22.419670Z"
    },
    "papermill": {
     "duration": 0.08393,
     "end_time": "2025-08-24T18:39:22.422337",
     "exception": false,
     "start_time": "2025-08-24T18:39:22.338407",
     "status": "completed"
    },
    "tags": []
   },
   "outputs": [
    {
     "data": {
      "text/plain": [
       "spotify_track_uri    0\n",
       "ts                   0\n",
       "platform             0\n",
       "ms_played            0\n",
       "track_name           0\n",
       "artist_name          0\n",
       "album_name           0\n",
       "reason_start         0\n",
       "reason_end           0\n",
       "shuffle              0\n",
       "skipped              0\n",
       "dtype: int64"
      ]
     },
     "execution_count": 12,
     "metadata": {},
     "output_type": "execute_result"
    }
   ],
   "source": [
    "df.isnull().sum()"
   ]
  },
  {
   "cell_type": "markdown",
   "id": "531715f4",
   "metadata": {
    "papermill": {
     "duration": 0.008178,
     "end_time": "2025-08-24T18:39:22.438914",
     "exception": false,
     "start_time": "2025-08-24T18:39:22.430736",
     "status": "completed"
    },
    "tags": []
   },
   "source": [
    "**CHECKING DUPLICATE ENTRY**"
   ]
  },
  {
   "cell_type": "code",
   "execution_count": 13,
   "id": "8f282c24",
   "metadata": {
    "execution": {
     "iopub.execute_input": "2025-08-24T18:39:22.456922Z",
     "iopub.status.busy": "2025-08-24T18:39:22.456572Z",
     "iopub.status.idle": "2025-08-24T18:39:22.609840Z",
     "shell.execute_reply": "2025-08-24T18:39:22.608655Z"
    },
    "papermill": {
     "duration": 0.164656,
     "end_time": "2025-08-24T18:39:22.611748",
     "exception": false,
     "start_time": "2025-08-24T18:39:22.447092",
     "status": "completed"
    },
    "tags": []
   },
   "outputs": [
    {
     "data": {
      "text/plain": [
       "1185"
      ]
     },
     "execution_count": 13,
     "metadata": {},
     "output_type": "execute_result"
    }
   ],
   "source": [
    "df.duplicated().sum()"
   ]
  },
  {
   "cell_type": "markdown",
   "id": "17a38f9c",
   "metadata": {
    "papermill": {
     "duration": 0.00779,
     "end_time": "2025-08-24T18:39:22.627759",
     "exception": false,
     "start_time": "2025-08-24T18:39:22.619969",
     "status": "completed"
    },
    "tags": []
   },
   "source": [
    "NOW WE HAVE TO DECIDE WHICH DUPLICATE ENTRY SHOULD CAUSE DUPLICACY \n",
    "Suppose: Artist Name can be duplicate,Their songs also played more than 1 \n",
    "but URI CAN'T BE SAME \n",
    "\n",
    "CONCLUSION : URI CAN'T BE SAME ,If they are then remove it"
   ]
  },
  {
   "cell_type": "code",
   "execution_count": 14,
   "id": "96b0aeec",
   "metadata": {
    "execution": {
     "iopub.execute_input": "2025-08-24T18:39:22.645136Z",
     "iopub.status.busy": "2025-08-24T18:39:22.644819Z",
     "iopub.status.idle": "2025-08-24T18:39:22.664575Z",
     "shell.execute_reply": "2025-08-24T18:39:22.663518Z"
    },
    "papermill": {
     "duration": 0.030723,
     "end_time": "2025-08-24T18:39:22.666402",
     "exception": false,
     "start_time": "2025-08-24T18:39:22.635679",
     "status": "completed"
    },
    "tags": []
   },
   "outputs": [],
   "source": [
    "df=df.drop_duplicates(subset=['spotify_track_uri'])"
   ]
  },
  {
   "cell_type": "markdown",
   "id": "7fc06fcf",
   "metadata": {
    "papermill": {
     "duration": 0.007899,
     "end_time": "2025-08-24T18:39:22.682541",
     "exception": false,
     "start_time": "2025-08-24T18:39:22.674642",
     "status": "completed"
    },
    "tags": []
   },
   "source": [
    "**CHECKING AGAIN:**"
   ]
  },
  {
   "cell_type": "code",
   "execution_count": 15,
   "id": "0bb93016",
   "metadata": {
    "execution": {
     "iopub.execute_input": "2025-08-24T18:39:22.700004Z",
     "iopub.status.busy": "2025-08-24T18:39:22.699692Z",
     "iopub.status.idle": "2025-08-24T18:39:22.726401Z",
     "shell.execute_reply": "2025-08-24T18:39:22.725179Z"
    },
    "papermill": {
     "duration": 0.037799,
     "end_time": "2025-08-24T18:39:22.728482",
     "exception": false,
     "start_time": "2025-08-24T18:39:22.690683",
     "status": "completed"
    },
    "tags": []
   },
   "outputs": [
    {
     "data": {
      "text/plain": [
       "0"
      ]
     },
     "execution_count": 15,
     "metadata": {},
     "output_type": "execute_result"
    }
   ],
   "source": [
    "df.duplicated().sum()"
   ]
  },
  {
   "cell_type": "markdown",
   "id": "ba6436ed",
   "metadata": {
    "papermill": {
     "duration": 0.007789,
     "end_time": "2025-08-24T18:39:22.744503",
     "exception": false,
     "start_time": "2025-08-24T18:39:22.736714",
     "status": "completed"
    },
    "tags": []
   },
   "source": [
    "**Column Ts have wrong type of datatype**\n"
   ]
  },
  {
   "cell_type": "raw",
   "id": "fc150cb2",
   "metadata": {
    "papermill": {
     "duration": 0.008318,
     "end_time": "2025-08-24T18:39:22.761143",
     "exception": false,
     "start_time": "2025-08-24T18:39:22.752825",
     "status": "completed"
    },
    "tags": []
   },
   "source": [
    "Converting it into DateAndTime"
   ]
  },
  {
   "cell_type": "code",
   "execution_count": 16,
   "id": "e3ba4e05",
   "metadata": {
    "execution": {
     "iopub.execute_input": "2025-08-24T18:39:22.779290Z",
     "iopub.status.busy": "2025-08-24T18:39:22.778961Z",
     "iopub.status.idle": "2025-08-24T18:39:22.785615Z",
     "shell.execute_reply": "2025-08-24T18:39:22.784577Z"
    },
    "papermill": {
     "duration": 0.017878,
     "end_time": "2025-08-24T18:39:22.787219",
     "exception": false,
     "start_time": "2025-08-24T18:39:22.769341",
     "status": "completed"
    },
    "tags": []
   },
   "outputs": [],
   "source": [
    "\n",
    "df['ts'] = df['ts'].astype(str)\n"
   ]
  },
  {
   "cell_type": "code",
   "execution_count": 17,
   "id": "40410d41",
   "metadata": {
    "execution": {
     "iopub.execute_input": "2025-08-24T18:39:22.805378Z",
     "iopub.status.busy": "2025-08-24T18:39:22.805071Z",
     "iopub.status.idle": "2025-08-24T18:39:22.820837Z",
     "shell.execute_reply": "2025-08-24T18:39:22.819015Z"
    },
    "papermill": {
     "duration": 0.027211,
     "end_time": "2025-08-24T18:39:22.823023",
     "exception": false,
     "start_time": "2025-08-24T18:39:22.795812",
     "status": "completed"
    },
    "tags": []
   },
   "outputs": [],
   "source": [
    "df['ts'] = pd.to_datetime(df['ts'], errors='coerce')\n"
   ]
  },
  {
   "cell_type": "code",
   "execution_count": 18,
   "id": "d6a79c2d",
   "metadata": {
    "execution": {
     "iopub.execute_input": "2025-08-24T18:39:22.840787Z",
     "iopub.status.busy": "2025-08-24T18:39:22.840375Z",
     "iopub.status.idle": "2025-08-24T18:39:22.845991Z",
     "shell.execute_reply": "2025-08-24T18:39:22.844817Z"
    },
    "papermill": {
     "duration": 0.016283,
     "end_time": "2025-08-24T18:39:22.847598",
     "exception": false,
     "start_time": "2025-08-24T18:39:22.831315",
     "status": "completed"
    },
    "tags": []
   },
   "outputs": [
    {
     "name": "stdout",
     "output_type": "stream",
     "text": [
      "datetime64[ns]\n"
     ]
    }
   ],
   "source": [
    "print(df['ts'].dtype)   \n"
   ]
  },
  {
   "cell_type": "markdown",
   "id": "ffe15b63",
   "metadata": {
    "papermill": {
     "duration": 0.007912,
     "end_time": "2025-08-24T18:39:22.863783",
     "exception": false,
     "start_time": "2025-08-24T18:39:22.855871",
     "status": "completed"
    },
    "tags": []
   },
   "source": [
    "**TOP ARTISTS**"
   ]
  },
  {
   "cell_type": "code",
   "execution_count": 19,
   "id": "fdeccba8",
   "metadata": {
    "execution": {
     "iopub.execute_input": "2025-08-24T18:39:22.881730Z",
     "iopub.status.busy": "2025-08-24T18:39:22.881349Z",
     "iopub.status.idle": "2025-08-24T18:39:22.892680Z",
     "shell.execute_reply": "2025-08-24T18:39:22.891284Z"
    },
    "papermill": {
     "duration": 0.022721,
     "end_time": "2025-08-24T18:39:22.894859",
     "exception": false,
     "start_time": "2025-08-24T18:39:22.872138",
     "status": "completed"
    },
    "tags": []
   },
   "outputs": [
    {
     "name": "stdout",
     "output_type": "stream",
     "text": [
      "artist_name\n",
      "The Beatles           472\n",
      "The Killers           240\n",
      "Paul McCartney        180\n",
      "The Black Keys        173\n",
      "John Mayer            156\n",
      "The Rolling Stones    149\n",
      "Radiohead             135\n",
      "Imagine Dragons       116\n",
      "The Kinks             115\n",
      "Bob Dylan             106\n",
      "Name: count, dtype: int64\n"
     ]
    }
   ],
   "source": [
    "top_artist=df['artist_name'].value_counts().head(10)\n",
    "print(top_artist)"
   ]
  },
  {
   "cell_type": "markdown",
   "id": "5f0bb8b0",
   "metadata": {
    "papermill": {
     "duration": 0.007916,
     "end_time": "2025-08-24T18:39:22.911742",
     "exception": false,
     "start_time": "2025-08-24T18:39:22.903826",
     "status": "completed"
    },
    "tags": []
   },
   "source": []
  },
  {
   "cell_type": "markdown",
   "id": "bbc394a0",
   "metadata": {
    "papermill": {
     "duration": 0.008212,
     "end_time": "2025-08-24T18:39:22.928022",
     "exception": false,
     "start_time": "2025-08-24T18:39:22.919810",
     "status": "completed"
    },
    "tags": []
   },
   "source": [
    "**MOST PLAYED SONGS**"
   ]
  },
  {
   "cell_type": "code",
   "execution_count": 20,
   "id": "3fa61e79",
   "metadata": {
    "execution": {
     "iopub.execute_input": "2025-08-24T18:39:22.946638Z",
     "iopub.status.busy": "2025-08-24T18:39:22.946296Z",
     "iopub.status.idle": "2025-08-24T18:39:22.958617Z",
     "shell.execute_reply": "2025-08-24T18:39:22.957538Z"
    },
    "papermill": {
     "duration": 0.022807,
     "end_time": "2025-08-24T18:39:22.960047",
     "exception": false,
     "start_time": "2025-08-24T18:39:22.937240",
     "status": "completed"
    },
    "tags": []
   },
   "outputs": [
    {
     "name": "stdout",
     "output_type": "stream",
     "text": [
      "album_name\n",
      "The Beatles                                                   137\n",
      "Brothers                                                       64\n",
      "Live At The BBC                                                62\n",
      "Revolver                                                       52\n",
      "A Star Is Born Soundtrack                                      49\n",
      "All Things Must Pass                                           48\n",
      "Les Misérables (In Concert at the Royal Albert Hall)           41\n",
      "The Queen's Gambit (Music from the Netflix Limited Series)     41\n",
      "The Velvet Underground                                         40\n",
      "Selección Especial                                             40\n",
      "Name: count, dtype: int64\n"
     ]
    }
   ],
   "source": [
    "most_played=df['album_name'].value_counts().head(10)\n",
    "print(most_played)"
   ]
  },
  {
   "cell_type": "markdown",
   "id": "f27620b8",
   "metadata": {
    "papermill": {
     "duration": 0.008529,
     "end_time": "2025-08-24T18:39:22.976881",
     "exception": false,
     "start_time": "2025-08-24T18:39:22.968352",
     "status": "completed"
    },
    "tags": []
   },
   "source": [
    "**Highest total playtime**"
   ]
  },
  {
   "cell_type": "code",
   "execution_count": 21,
   "id": "34e2a27f",
   "metadata": {
    "execution": {
     "iopub.execute_input": "2025-08-24T18:39:22.995507Z",
     "iopub.status.busy": "2025-08-24T18:39:22.995182Z",
     "iopub.status.idle": "2025-08-24T18:39:23.021267Z",
     "shell.execute_reply": "2025-08-24T18:39:23.019475Z"
    },
    "papermill": {
     "duration": 0.037758,
     "end_time": "2025-08-24T18:39:23.023356",
     "exception": false,
     "start_time": "2025-08-24T18:39:22.985598",
     "status": "completed"
    },
    "tags": []
   },
   "outputs": [
    {
     "name": "stdout",
     "output_type": "stream",
     "text": [
      "artist_name      album_name                                                          \n",
      "The Beatles      The Beatles                                                             346.400233\n",
      "George Harrison  All Things Must Pass                                                    165.215483\n",
      "The Beatles      Revolver                                                                114.373200\n",
      "The Killers      Pressure Machine                                                        112.455167\n",
      "Pedro Infante    Selección Especial                                                      111.730767\n",
      "The Kinks        Everybody's in Show-Biz                                                 108.191400\n",
      "The Beatles      Live At The BBC                                                         104.637333\n",
      "Louis Armstrong  Satchmo At Symphony Hall 65th Anniversary: The Complete Performances    101.229100\n",
      "Andrea Bocelli   My Love Songs (Expanded Edition)                                         97.231683\n",
      "Mumford & Sons   Babel                                                                    91.205633\n",
      "Name: ms_played, dtype: float64\n"
     ]
    }
   ],
   "source": [
    "high_total_playtime=(\n",
    "    df.groupby(['artist_name','album_name'])['ms_played'].sum().sort_values(ascending=False).head(10)\n",
    ")\n",
    "in_minutes=high_total_playtime/(1000*60)\n",
    "print(in_minutes)"
   ]
  },
  {
   "cell_type": "markdown",
   "id": "79ea2bf6",
   "metadata": {
    "papermill": {
     "duration": 0.009389,
     "end_time": "2025-08-24T18:39:23.041633",
     "exception": false,
     "start_time": "2025-08-24T18:39:23.032244",
     "status": "completed"
    },
    "tags": []
   },
   "source": []
  },
  {
   "cell_type": "code",
   "execution_count": 22,
   "id": "bad4815d",
   "metadata": {
    "execution": {
     "iopub.execute_input": "2025-08-24T18:39:23.061908Z",
     "iopub.status.busy": "2025-08-24T18:39:23.061562Z",
     "iopub.status.idle": "2025-08-24T18:39:23.090950Z",
     "shell.execute_reply": "2025-08-24T18:39:23.089620Z"
    },
    "papermill": {
     "duration": 0.042404,
     "end_time": "2025-08-24T18:39:23.092941",
     "exception": false,
     "start_time": "2025-08-24T18:39:23.050537",
     "status": "completed"
    },
    "tags": []
   },
   "outputs": [],
   "source": [
    "df['ms_played']=df['ms_played']/(1000*60*60)\n",
    "df['ms_played'] = df['ms_played'].round(4)\n"
   ]
  },
  {
   "cell_type": "code",
   "execution_count": 23,
   "id": "3486163b",
   "metadata": {
    "execution": {
     "iopub.execute_input": "2025-08-24T18:39:23.111117Z",
     "iopub.status.busy": "2025-08-24T18:39:23.110778Z",
     "iopub.status.idle": "2025-08-24T18:39:23.125596Z",
     "shell.execute_reply": "2025-08-24T18:39:23.124364Z"
    },
    "papermill": {
     "duration": 0.026182,
     "end_time": "2025-08-24T18:39:23.127549",
     "exception": false,
     "start_time": "2025-08-24T18:39:23.101367",
     "status": "completed"
    },
    "tags": []
   },
   "outputs": [],
   "source": [
    "df['hour']=df['ts'].dt.hour\n",
    "df['day']=df['ts'].dt.day_name()\n",
    "df['month']=df['ts'].dt.month"
   ]
  },
  {
   "cell_type": "markdown",
   "id": "475e5410",
   "metadata": {
    "papermill": {
     "duration": 0.008644,
     "end_time": "2025-08-24T18:39:23.145613",
     "exception": false,
     "start_time": "2025-08-24T18:39:23.136969",
     "status": "completed"
    },
    "tags": []
   },
   "source": [
    "**TOP ARTISTS**"
   ]
  },
  {
   "cell_type": "code",
   "execution_count": 24,
   "id": "57ca44e8",
   "metadata": {
    "execution": {
     "iopub.execute_input": "2025-08-24T18:39:23.164822Z",
     "iopub.status.busy": "2025-08-24T18:39:23.164478Z",
     "iopub.status.idle": "2025-08-24T18:39:23.595761Z",
     "shell.execute_reply": "2025-08-24T18:39:23.594710Z"
    },
    "papermill": {
     "duration": 0.44292,
     "end_time": "2025-08-24T18:39:23.597562",
     "exception": false,
     "start_time": "2025-08-24T18:39:23.154642",
     "status": "completed"
    },
    "tags": []
   },
   "outputs": [
    {
     "data": {
      "image/png": "[encoded data removed]",
      "text/plain": [
       "<Figure size 1000x600 with 1 Axes>"
      ]
     },
     "metadata": {},
     "output_type": "display_data"
    }
   ],
   "source": [
    "top_artist=df.groupby('artist_name')['ms_played'].sum().sort_values(ascending=False).head(10)\n",
    "top_artist.plot(kind='bar',figsize=(10,6),color='skyblue')\n",
    "plt.title('TOP 10 ARTIST IN LISTENING')\n",
    "plt.xlabel('Artist Name')\n",
    "plt.ylabel('HOURS')\n",
    "plt.xticks(rotation=45) #IT ROTATES LABEL OF X-AXIS\n",
    "plt.show()"
   ]
  },
  {
   "cell_type": "markdown",
   "id": "e79f080c",
   "metadata": {
    "papermill": {
     "duration": 0.009633,
     "end_time": "2025-08-24T18:39:23.617178",
     "exception": false,
     "start_time": "2025-08-24T18:39:23.607545",
     "status": "completed"
    },
    "tags": []
   },
   "source": []
  },
  {
   "cell_type": "markdown",
   "id": "de3f2deb",
   "metadata": {
    "papermill": {
     "duration": 0.009067,
     "end_time": "2025-08-24T18:39:23.636195",
     "exception": false,
     "start_time": "2025-08-24T18:39:23.627128",
     "status": "completed"
    },
    "tags": []
   },
   "source": [
    "**PLATFORM USAGE**"
   ]
  },
  {
   "cell_type": "code",
   "execution_count": 25,
   "id": "33c15375",
   "metadata": {
    "execution": {
     "iopub.execute_input": "2025-08-24T18:39:23.656538Z",
     "iopub.status.busy": "2025-08-24T18:39:23.656066Z",
     "iopub.status.idle": "2025-08-24T18:39:23.898064Z",
     "shell.execute_reply": "2025-08-24T18:39:23.897041Z"
    },
    "papermill": {
     "duration": 0.254467,
     "end_time": "2025-08-24T18:39:23.900021",
     "exception": false,
     "start_time": "2025-08-24T18:39:23.645554",
     "status": "completed"
    },
    "tags": []
   },
   "outputs": [
    {
     "data": {
      "image/png": "[encoded data removed]",
      "text/plain": [
       "<Figure size 800x800 with 1 Axes>"
      ]
     },
     "metadata": {},
     "output_type": "display_data"
    }
   ],
   "source": [
    "platform_usage=df['platform'].value_counts()\n",
    "platform_usage.plot(kind='pie',labels=None,autopct='%1.1f%%',figsize=(8,8),startangle=45)\n",
    "plt.legend(platform_usage.index,loc=\"best\")\n",
    "plt.title(\"PLATFORM USAGE\")\n",
    "plt.ylabel('')\n",
    "plt.show()"
   ]
  },
  {
   "cell_type": "markdown",
   "id": "2c9cba79",
   "metadata": {
    "papermill": {
     "duration": 0.00989,
     "end_time": "2025-08-24T18:39:23.920838",
     "exception": false,
     "start_time": "2025-08-24T18:39:23.910948",
     "status": "completed"
    },
    "tags": []
   },
   "source": [
    "**Most Skipped Tracks**"
   ]
  },
  {
   "cell_type": "code",
   "execution_count": 26,
   "id": "11b2c52e",
   "metadata": {
    "execution": {
     "iopub.execute_input": "2025-08-24T18:39:23.943121Z",
     "iopub.status.busy": "2025-08-24T18:39:23.942774Z",
     "iopub.status.idle": "2025-08-24T18:39:24.416993Z",
     "shell.execute_reply": "2025-08-24T18:39:24.415884Z"
    },
    "papermill": {
     "duration": 0.488856,
     "end_time": "2025-08-24T18:39:24.420377",
     "exception": false,
     "start_time": "2025-08-24T18:39:23.931521",
     "status": "completed"
    },
    "tags": []
   },
   "outputs": [
    {
     "name": "stdout",
     "output_type": "stream",
     "text": [
      "artist_name           track_name                                                                  \n",
      "JAY-Z                 Ni**as In Paris                                                                 2\n",
      "The Kinks             Sunny Afternoon                                                                 2\n",
      "Selena Gomez          Same Old Love                                                                   2\n",
      "The Script            Superheroes                                                                     2\n",
      "The Rolling Stones    Can't You Hear Me Knocking - 2009 Mix                                           2\n",
      "The Temper Trap       Down River                                                                      2\n",
      "Black Sabbath         War Pigs                                                                        2\n",
      "Avicii                For A Better Day                                                                2\n",
      "The Weeknd            The Hills                                                                       2\n",
      "John Mayer            In Repair                                                                       2\n",
      "Guns N' Roses         Paradise City                                                                   2\n",
      "Alejandro Sanz        Un Zombie A La Intemperie                                                       2\n",
      "Jimi Hendrix          Purple Haze                                                                     2\n",
      "Alejandro Sanz        A Que No Me Dejas                                                               2\n",
      "Maroon 5              This Love                                                                       2\n",
      "The Script            Science & Faith                                                                 2\n",
      "B.B. King             Rock Me Baby                                                                    2\n",
      "AWOLNATION            Run                                                                             2\n",
      "Jimi Hendrix          Foxey Lady                                                                      2\n",
      "OMI                   Cheerleader (Felix Jaehn Remix) - Radio Edit                                    2\n",
      "Caloncho              Palmar                                                                          2\n",
      "David Bisbal          Ave María                                                                       2\n",
      "AWOLNATION            Hollow Moon (Bad Wolf)                                                          2\n",
      "The Rolling Stones    Honky Tonk Women - Live At University Of Leeds / 1971                           2\n",
      "R. City               Locked Away (feat. Adam Levine)                                                 2\n",
      "The Lumineers         Ho Hey                                                                          2\n",
      "The Killers           boy                                                                             2\n",
      "Carly Rae Jepsen      I Really Like You                                                               2\n",
      "The Notorious B.I.G.  Dangerous MC's (feat. Mark Curry, Snoop Dogg & Busta Rhymes) - 2005 Remaster    1\n",
      "                      One More Chance - 2005 Remaster                                                 1\n",
      "Name: skipped, dtype: int64\n"
     ]
    },
    {
     "data": {
      "image/png": "[encoded data removed]",
      "text/plain": [
       "<Figure size 600x600 with 1 Axes>"
      ]
     },
     "metadata": {},
     "output_type": "display_data"
    }
   ],
   "source": [
    "skipped_songs=df.groupby(['artist_name','track_name'])['skipped'].sum().sort_values(ascending=False).head(30)\n",
    "print(skipped_songs)\n",
    "skipped_songs.plot(kind='bar',figsize=(6,6),color='blue')\n",
    "plt.title('Most Skipped Songs')\n",
    "plt.xlabel('ARTIST AND SONG NAME')\n",
    "plt.ylabel('SKIPPED COUNT')\n",
    "plt.show()"
   ]
  },
  {
   "cell_type": "markdown",
   "id": "d6267ca7",
   "metadata": {
    "papermill": {
     "duration": 0.013508,
     "end_time": "2025-08-24T18:39:24.447708",
     "exception": false,
     "start_time": "2025-08-24T18:39:24.434200",
     "status": "completed"
    },
    "tags": []
   },
   "source": [
    "ML MODEL:\n"
   ]
  },
  {
   "cell_type": "code",
   "execution_count": 27,
   "id": "1741712c",
   "metadata": {
    "execution": {
     "iopub.execute_input": "2025-08-24T18:39:24.479639Z",
     "iopub.status.busy": "2025-08-24T18:39:24.479276Z",
     "iopub.status.idle": "2025-08-24T18:39:32.823094Z",
     "shell.execute_reply": "2025-08-24T18:39:32.821917Z"
    },
    "papermill": {
     "duration": 8.363842,
     "end_time": "2025-08-24T18:39:32.825047",
     "exception": false,
     "start_time": "2025-08-24T18:39:24.461205",
     "status": "completed"
    },
    "tags": []
   },
   "outputs": [
    {
     "name": "stdout",
     "output_type": "stream",
     "text": [
      "--- Logistic Regression ---\n",
      "              precision    recall  f1-score   support\n",
      "\n",
      "       False       0.97      0.73      0.83      2984\n",
      "        True       0.24      0.80      0.37       322\n",
      "\n",
      "    accuracy                           0.73      3306\n",
      "   macro avg       0.60      0.76      0.60      3306\n",
      "weighted avg       0.90      0.73      0.79      3306\n",
      "\n",
      "--- Random Forest ---\n",
      "              precision    recall  f1-score   support\n",
      "\n",
      "       False       0.95      0.98      0.96      2984\n",
      "        True       0.72      0.56      0.63       322\n",
      "\n",
      "    accuracy                           0.94      3306\n",
      "   macro avg       0.84      0.77      0.80      3306\n",
      "weighted avg       0.93      0.94      0.93      3306\n",
      "\n",
      "--- XGBoost ---\n",
      "              precision    recall  f1-score   support\n",
      "\n",
      "       False       0.97      0.91      0.94      2984\n",
      "        True       0.47      0.78      0.59       322\n",
      "\n",
      "    accuracy                           0.89      3306\n",
      "   macro avg       0.72      0.84      0.76      3306\n",
      "weighted avg       0.93      0.89      0.91      3306\n",
      "\n",
      "Best model for predicting skipped songs: Random Forest with F1-score = 0.63\n"
     ]
    }
   ],
   "source": [
    "from sklearn.model_selection import train_test_split\n",
    "from sklearn.preprocessing import StandardScaler, OneHotEncoder\n",
    "from sklearn.compose import ColumnTransformer\n",
    "from sklearn.pipeline import Pipeline\n",
    "from sklearn.linear_model import LogisticRegression\n",
    "from sklearn.ensemble import RandomForestClassifier\n",
    "from xgboost import XGBClassifier\n",
    "from sklearn.metrics import classification_report\n",
    "\n",
    "# Target variable\n",
    "y = df['skipped']\n",
    "\n",
    "# Features\n",
    "categorical_cols = ['platform', 'shuffle', 'reason_start', 'day']\n",
    "numerical_cols = ['hour', 'ms_played']\n",
    "\n",
    "X = df[categorical_cols + numerical_cols]\n",
    "X_train, X_test, y_train, y_test = train_test_split(X, y, test_size=0.2, random_state=42, stratify=y)\n",
    "\n",
    "# 3️⃣ Preprocessing\n",
    "preprocessor = ColumnTransformer(\n",
    "    transformers=[\n",
    "        ('cat', OneHotEncoder(handle_unknown='ignore'), categorical_cols),\n",
    "        ('num', StandardScaler(), numerical_cols)\n",
    "    ]\n",
    ")\n",
    "\n",
    "# 4️⃣ Models to compare\n",
    "models = {\n",
    "    \"Logistic Regression\": LogisticRegression(class_weight='balanced', max_iter=1000),\n",
    "    \"Random Forest\": RandomForestClassifier(class_weight='balanced', n_estimators=100, random_state=42),\n",
    "    \"XGBoost\": XGBClassifier(scale_pos_weight=(len(y_train[y_train==0])/len(y_train[y_train==1])), use_label_encoder=False, eval_metric='logloss')\n",
    "}\n",
    "\n",
    "# 5️⃣ Train, evaluate and select best model\n",
    "best_model = None\n",
    "best_f1 = 0\n",
    "for name, clf in models.items():\n",
    "    pipeline = Pipeline(steps=[\n",
    "        ('preprocessor', preprocessor),\n",
    "        ('classifier', clf)\n",
    "    ])\n",
    "    pipeline.fit(X_train, y_train)\n",
    "    y_pred = pipeline.predict(X_test)\n",
    "    \n",
    "    print(f\"--- {name} ---\")\n",
    "    print(classification_report(y_test, y_pred))\n",
    "    \n",
    "    # Get F1-score for skipped songs (True)\n",
    "    report = classification_report(y_test, y_pred, output_dict=True)\n",
    "    f1_skipped = report['True']['f1-score']\n",
    "    \n",
    "    if f1_skipped > best_f1:\n",
    "        best_f1 = f1_skipped\n",
    "        best_model = name\n",
    "\n",
    "print(f\"Best model for predicting skipped songs: {best_model} with F1-score = {best_f1:.2f}\")\n"
   ]
  }
 ],
 "metadata": {
  "kaggle": {
   "accelerator": "none",
   "dataSources": [
    {
     "datasetId": 7664666,
     "sourceId": 12169660,
     "sourceType": "datasetVersion"
    },
    {
     "datasetId": 8043846,
     "sourceId": 12726298,
     "sourceType": "datasetVersion"
    }
   ],
   "dockerImageVersionId": 31089,
   "isGpuEnabled": false,
   "isInternetEnabled": true,
   "language": "python",
   "sourceType": "notebook"
  },
  "kernelspec": {
   "display_name": "Python 3",
   "language": "python",
   "name": "python3"
  },
  "language_info": {
   "codemirror_mode": {
    "name": "ipython",
    "version": 3
   },
   "file_extension": ".py",
   "mimetype": "text/x-python",
   "name": "python",
   "nbconvert_exporter": "python",
   "pygments_lexer": "ipython3",
   "version": "3.11.13"
  },
  "papermill": {
   "default_parameters": {},
   "duration": 21.703081,
   "end_time": "2025-08-24T18:39:33.661983",
   "environment_variables": {},
   "exception": null,
   "input_path": "__notebook__.ipynb",
   "output_path": "__notebook__.ipynb",
   "parameters": {},
   "start_time": "2025-08-24T18:39:11.958902",
   "version": "2.6.0"
  }
 },
 "nbformat": 4,
 "nbformat_minor": 5
}
